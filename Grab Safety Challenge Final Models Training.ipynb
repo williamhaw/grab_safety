{
 "cells": [
  {
   "cell_type": "code",
   "execution_count": 1,
   "metadata": {},
   "outputs": [
    {
     "name": "stderr",
     "output_type": "stream",
     "text": [
      "Using TensorFlow backend.\n"
     ]
    }
   ],
   "source": [
    "import pandas as pd\n",
    "import numpy as np\n",
    "from datautils import dir_to_dataframe\n",
    "\n",
    "feature_dir = \"data/features\"\n",
    "raw_features = dir_to_dataframe(feature_dir)\n",
    "\n",
    "label_dir = \"data/labels\"\n",
    "labels = dir_to_dataframe(label_dir)"
   ]
  },
  {
   "cell_type": "code",
   "execution_count": 2,
   "metadata": {},
   "outputs": [
    {
     "name": "stderr",
     "output_type": "stream",
     "text": [
      "Feature Extraction: 100%|██████████| 30/30 [00:48<00:00,  1.53s/it]\n"
     ]
    }
   ],
   "source": [
    "from datautils import preprocess_data\n",
    "\n",
    "booking_ids, labels, aggregate_features, timeseries_features = preprocess_data(raw_features, labels)"
   ]
  },
  {
   "cell_type": "code",
   "execution_count": 3,
   "metadata": {},
   "outputs": [],
   "source": [
    "from datautils import make_timeseries_same_length\n",
    "timeseries = make_timeseries_same_length(timeseries_features)"
   ]
  },
  {
   "cell_type": "code",
   "execution_count": 4,
   "metadata": {},
   "outputs": [],
   "source": [
    "from sklearn.preprocessing import StandardScaler\n",
    "aggregate = StandardScaler().fit_transform(aggregate_features)"
   ]
  },
  {
   "cell_type": "code",
   "execution_count": 5,
   "metadata": {},
   "outputs": [],
   "source": [
    "from sklearn.model_selection import train_test_split\n",
    "\n",
    "x_train_ts, x_valid_ts, y_train, y_valid = train_test_split(timeseries, labels, test_size=0.2, shuffle=True, random_state=879)\n",
    "x_valid_ts, x_test_ts, y_valid, y_test = train_test_split(x_valid_ts, y_valid, test_size=0.5)\n",
    "\n",
    "x_train_agg, x_valid_agg, y_train, y_valid = train_test_split(aggregate, labels, test_size=0.2, shuffle=True, random_state=879)\n",
    "x_valid_agg, x_test_agg, y_valid, y_test = train_test_split(x_valid_agg, y_valid, test_size=0.5)"
   ]
  },
  {
   "cell_type": "code",
   "execution_count": 6,
   "metadata": {
    "scrolled": true
   },
   "outputs": [
    {
     "name": "stdout",
     "output_type": "stream",
     "text": [
      "WARNING:tensorflow:From /anaconda3/lib/python3.7/site-packages/tensorflow/python/framework/op_def_library.py:263: colocate_with (from tensorflow.python.framework.ops) is deprecated and will be removed in a future version.\n",
      "Instructions for updating:\n",
      "Colocations handled automatically by placer.\n"
     ]
    },
    {
     "name": "stderr",
     "output_type": "stream",
     "text": [
      "WARNING:tensorflow:From /anaconda3/lib/python3.7/site-packages/tensorflow/python/framework/op_def_library.py:263: colocate_with (from tensorflow.python.framework.ops) is deprecated and will be removed in a future version.\n",
      "Instructions for updating:\n",
      "Colocations handled automatically by placer.\n"
     ]
    },
    {
     "name": "stdout",
     "output_type": "stream",
     "text": [
      "_________________________________________________________________\n",
      "Layer (type)                 Output Shape              Param #   \n",
      "=================================================================\n",
      "input_aggregates (InputLayer (None, 107)               0         \n",
      "_________________________________________________________________\n",
      "agg_dense_1 (Dense)          (None, 64)                6912      \n",
      "_________________________________________________________________\n",
      "agg_dense_2 (Dense)          (None, 32)                2080      \n",
      "_________________________________________________________________\n",
      "out (Dense)                  (None, 1)                 33        \n",
      "=================================================================\n",
      "Total params: 9,025\n",
      "Trainable params: 9,025\n",
      "Non-trainable params: 0\n",
      "_________________________________________________________________\n"
     ]
    }
   ],
   "source": [
    "from keras.models import Sequential, Model, Input\n",
    "\n",
    "from keras.layers import Dense, Dropout, Flatten, LSTM, concatenate\n",
    "\n",
    "from keras.optimizers import Adam\n",
    "from keras.models import load_model\n",
    "from keras.callbacks import ModelCheckpoint\n",
    "\n",
    "import os\n",
    "os.environ['KMP_DUPLICATE_LIB_OK']='True' # fix for issue described here: https://github.com/dmlc/xgboost/issues/1715\n",
    "\n",
    "input_aggregates = Input(shape=(x_train_agg.shape[1],), name='input_aggregates')\n",
    "dense_2 = Dense(64, activation='relu', name='agg_dense_1')(input_aggregates)\n",
    "dense_3 = Dense(32, activation='relu', name='agg_dense_2')(dense_2)\n",
    "\n",
    "out = Dense(1, activation='sigmoid', name='out')(dense_3)\n",
    "model = Model(input_aggregates, out)\n",
    "\n",
    "chk = ModelCheckpoint('best_model.pkl', monitor='val_acc', save_best_only=True, mode='max', verbose=1)\n",
    "model.compile(loss='binary_crossentropy', optimizer=Adam(lr=0.001), metrics=['accuracy'])\n",
    "model.summary()"
   ]
  },
  {
   "cell_type": "code",
   "execution_count": 7,
   "metadata": {},
   "outputs": [
    {
     "name": "stdout",
     "output_type": "stream",
     "text": [
      "WARNING:tensorflow:From /anaconda3/lib/python3.7/site-packages/tensorflow/python/ops/math_ops.py:3066: to_int32 (from tensorflow.python.ops.math_ops) is deprecated and will be removed in a future version.\n",
      "Instructions for updating:\n",
      "Use tf.cast instead.\n"
     ]
    },
    {
     "name": "stderr",
     "output_type": "stream",
     "text": [
      "WARNING:tensorflow:From /anaconda3/lib/python3.7/site-packages/tensorflow/python/ops/math_ops.py:3066: to_int32 (from tensorflow.python.ops.math_ops) is deprecated and will be removed in a future version.\n",
      "Instructions for updating:\n",
      "Use tf.cast instead.\n"
     ]
    },
    {
     "name": "stdout",
     "output_type": "stream",
     "text": [
      "Train on 15985 samples, validate on 1998 samples\n",
      "Epoch 1/10\n",
      "15985/15985 [==============================] - 1s 85us/step - loss: 0.5346 - acc: 0.7600 - val_loss: 0.5299 - val_acc: 0.7598\n",
      "\n",
      "Epoch 00001: val_acc improved from -inf to 0.75976, saving model to best_model.pkl\n",
      "Epoch 2/10\n",
      "15985/15985 [==============================] - 0s 27us/step - loss: 0.5020 - acc: 0.7753 - val_loss: 0.5254 - val_acc: 0.7598\n",
      "\n",
      "Epoch 00002: val_acc did not improve from 0.75976\n",
      "Epoch 3/10\n",
      "15985/15985 [==============================] - 0s 27us/step - loss: 0.4930 - acc: 0.7781 - val_loss: 0.5279 - val_acc: 0.7593\n",
      "\n",
      "Epoch 00003: val_acc did not improve from 0.75976\n",
      "Epoch 4/10\n",
      "15985/15985 [==============================] - 0s 27us/step - loss: 0.4855 - acc: 0.7796 - val_loss: 0.5266 - val_acc: 0.7608\n",
      "\n",
      "Epoch 00004: val_acc improved from 0.75976 to 0.76076, saving model to best_model.pkl\n",
      "Epoch 5/10\n",
      "15985/15985 [==============================] - 1s 37us/step - loss: 0.4805 - acc: 0.7817 - val_loss: 0.5226 - val_acc: 0.7603\n",
      "\n",
      "Epoch 00005: val_acc did not improve from 0.76076\n",
      "Epoch 6/10\n",
      "15985/15985 [==============================] - 0s 26us/step - loss: 0.4756 - acc: 0.7828 - val_loss: 0.5246 - val_acc: 0.7598\n",
      "\n",
      "Epoch 00006: val_acc did not improve from 0.76076\n",
      "Epoch 7/10\n",
      "15985/15985 [==============================] - 0s 28us/step - loss: 0.4727 - acc: 0.7856 - val_loss: 0.5257 - val_acc: 0.7633\n",
      "\n",
      "Epoch 00007: val_acc improved from 0.76076 to 0.76326, saving model to best_model.pkl\n",
      "Epoch 8/10\n",
      "15985/15985 [==============================] - 0s 29us/step - loss: 0.4691 - acc: 0.7874 - val_loss: 0.5278 - val_acc: 0.7623\n",
      "\n",
      "Epoch 00008: val_acc did not improve from 0.76326\n",
      "Epoch 9/10\n",
      "15985/15985 [==============================] - 1s 41us/step - loss: 0.4648 - acc: 0.7884 - val_loss: 0.5274 - val_acc: 0.7598\n",
      "\n",
      "Epoch 00009: val_acc did not improve from 0.76326\n",
      "Epoch 10/10\n",
      "15985/15985 [==============================] - 0s 29us/step - loss: 0.4618 - acc: 0.7899 - val_loss: 0.5304 - val_acc: 0.7588\n",
      "\n",
      "Epoch 00010: val_acc did not improve from 0.76326\n"
     ]
    },
    {
     "data": {
      "text/plain": [
       "<keras.callbacks.History at 0x1c76fa65c0>"
      ]
     },
     "execution_count": 7,
     "metadata": {},
     "output_type": "execute_result"
    }
   ],
   "source": [
    "model.fit(x_train_agg, y_train, epochs=10, batch_size=128, callbacks=[chk], validation_data=(x_valid_agg,y_valid))"
   ]
  },
  {
   "cell_type": "code",
   "execution_count": 8,
   "metadata": {},
   "outputs": [
    {
     "data": {
      "text/plain": [
       "0.7808904452226113"
      ]
     },
     "execution_count": 8,
     "metadata": {},
     "output_type": "execute_result"
    }
   ],
   "source": [
    "from sklearn.metrics import accuracy_score\n",
    "accuracy_score(y_test, (model.predict(x_test_agg)>0.5)) #for output neuron with sigmoid activation, >0.5 predicts 1\n"
   ]
  },
  {
   "cell_type": "code",
   "execution_count": 9,
   "metadata": {},
   "outputs": [
    {
     "data": {
      "text/plain": [
       "0.5936968436968437"
      ]
     },
     "execution_count": 9,
     "metadata": {},
     "output_type": "execute_result"
    }
   ],
   "source": [
    "from sklearn.metrics import roc_auc_score\n",
    "roc_auc_score(y_test, (model.predict(x_test_agg)>0.5))"
   ]
  },
  {
   "cell_type": "code",
   "execution_count": 11,
   "metadata": {},
   "outputs": [],
   "source": [
    "#save sample to test in other notebook\n",
    "test_write_df = raw_features.sample(frac=0.1)\n",
    "test_write_df.to_csv('data/test_features/features.csv', index=False)"
   ]
  },
  {
   "cell_type": "code",
   "execution_count": null,
   "metadata": {},
   "outputs": [],
   "source": []
  }
 ],
 "metadata": {
  "kernelspec": {
   "display_name": "Python 3",
   "language": "python",
   "name": "python3"
  },
  "language_info": {
   "codemirror_mode": {
    "name": "ipython",
    "version": 3
   },
   "file_extension": ".py",
   "mimetype": "text/x-python",
   "name": "python",
   "nbconvert_exporter": "python",
   "pygments_lexer": "ipython3",
   "version": "3.7.3"
  }
 },
 "nbformat": 4,
 "nbformat_minor": 2
}
