{
 "cells": [
  {
   "cell_type": "code",
   "execution_count": null,
   "metadata": {},
   "outputs": [],
   "source": [
    "from datautils import dir_to_dataframe\n",
    "\n",
    "feature_dir = \"data/test_features\"\n",
    "raw_features = dir_to_dataframe(feature_dir)\n",
    "\n",
    "label_dir = \"data/labels\"\n",
    "labels = dir_to_dataframe(label_dir)"
   ]
  },
  {
   "cell_type": "code",
   "execution_count": null,
   "metadata": {},
   "outputs": [],
   "source": [
    "from datautils import preprocess_data\n",
    "\n",
    "booking_ids, labels, aggregate_features, timeseries_features = preprocess_data(raw_features, labels)"
   ]
  },
  {
   "cell_type": "code",
   "execution_count": null,
   "metadata": {},
   "outputs": [],
   "source": [
    "from sklearn.preprocessing import StandardScaler\n",
    "aggregate = StandardScaler().fit_transform(aggregate_features)"
   ]
  },
  {
   "cell_type": "code",
   "execution_count": null,
   "metadata": {},
   "outputs": [],
   "source": [
    "from keras.models import load_model\n",
    "import os\n",
    "os.environ['KMP_DUPLICATE_LIB_OK']='True' # fix for issue described here: https://github.com/dmlc/xgboost/issues/1715\n",
    "\n",
    "model = load_model('best_aggregate_model.pkl')\n",
    "model.summary()"
   ]
  },
  {
   "cell_type": "code",
   "execution_count": null,
   "metadata": {},
   "outputs": [],
   "source": [
    "from sklearn.metrics import accuracy_score\n",
    "accuracy_score(labels, (model.predict(aggregate_features)>0.5)) #for output neuron with sigmoid activation, >0.5 predicts 1\n"
   ]
  },
  {
   "cell_type": "code",
   "execution_count": null,
   "metadata": {},
   "outputs": [],
   "source": [
    "from sklearn.metrics import roc_auc_score\n",
    "roc_auc_score(labels, (model.predict(aggregate_features)>0.5))"
   ]
  }
 ],
 "metadata": {
  "kernelspec": {
   "display_name": "Python 3",
   "language": "python",
   "name": "python3"
  },
  "language_info": {
   "codemirror_mode": {
    "name": "ipython",
    "version": 3
   },
   "file_extension": ".py",
   "mimetype": "text/x-python",
   "name": "python",
   "nbconvert_exporter": "python",
   "pygments_lexer": "ipython3",
   "version": "3.7.3"
  }
 },
 "nbformat": 4,
 "nbformat_minor": 2
}
